{
 "cells": [
  {
   "cell_type": "code",
   "execution_count": null,
   "id": "7e7cfa7a",
   "metadata": {},
   "outputs": [
    {
     "name": "stdout",
     "output_type": "stream",
     "text": [
      "Monthly prices: [280.5, 295.75, 275.25, 312.8, 298.6, 325.45, 341.2, 328.75, 350.9, 365.25]\n",
      "Number of months: 10\n"
     ]
    }
   ],
   "source": [
    "monthly_prices = [280.50, 295.75, 275.25, 312.80, 298.60, 325.45, 341.20, 328.75, 350.90, 365.25]\n",
    "print(\"Monthly prices:\", monthly_prices)\n",
    "print(\"Number of months:\", len(monthly_prices))"
   ]
  },
  {
   "cell_type": "code",
   "execution_count": null,
   "id": "4f461afa",
   "metadata": {},
   "outputs": [
    {
     "name": "stdout",
     "output_type": "stream",
     "text": [
      "Variables initialized for tracking performance\n"
     ]
    }
   ],
   "source": [
    "best_return = float('-inf')\n",
    "worst_return = float('inf')\n",
    "best_month = 0\n",
    "worst_month = 0\n",
    "print(\"Variables initialized for tracking performance\")"
   ]
  },
  {
   "cell_type": "code",
   "execution_count": null,
   "id": "26e3400b",
   "metadata": {},
   "outputs": [
    {
     "name": "stdout",
     "output_type": "stream",
     "text": [
      "Monthly Returns:\n",
      "--------------------\n",
      "Month 2: +5.44%\n",
      "Month 3: -6.93%\n",
      "Month 4: +13.64%\n",
      "Month 5: -4.54%\n",
      "Month 6: +8.99%\n",
      "Month 7: +4.84%\n",
      "Month 8: -3.65%\n",
      "Month 9: +6.74%\n",
      "Month 10: +4.09%\n"
     ]
    }
   ],
   "source": [
    "print(\"Monthly Returns:\")\n",
    "print(\"-\" * 20)\n",
    "for i in range(1, len(monthly_prices)):\n",
    "    old_price = monthly_prices[i-1]\n",
    "    new_price = monthly_prices[i]\n",
    "    monthly_return = (new_price - old_price) / old_price * 100\n",
    "    print(f\"Month {i+1}: {monthly_return:+.2f}%\")\n",
    "    if monthly_return > best_return:\n",
    "        best_return = monthly_return\n",
    "        best_month = i + 1\n",
    "    \n",
    "    if monthly_return < worst_return:\n",
    "        worst_return = monthly_return\n",
    "        worst_month = i + 1"
   ]
  },
  {
   "cell_type": "code",
   "execution_count": 5,
   "id": "542d1cd4",
   "metadata": {},
   "outputs": [
    {
     "name": "stdout",
     "output_type": "stream",
     "text": [
      "\n",
      "Performance Summary:\n",
      "------------------------------\n",
      "Best month: Month 4 (+13.64%)\n",
      "Worst month: Month 3 (-6.93%)\n"
     ]
    }
   ],
   "source": [
    "print(\"\\nPerformance Summary:\")\n",
    "print(\"-\" * 30)\n",
    "print(f\"Best month: Month {best_month} ({best_return:+.2f}%)\")\n",
    "print(f\"Worst month: Month {worst_month} ({worst_return:+.2f}%)\")"
   ]
  },
  {
   "cell_type": "code",
   "execution_count": null,
   "id": "70130b57",
   "metadata": {},
   "outputs": [
    {
     "name": "stdout",
     "output_type": "stream",
     "text": [
      "\n",
      "Threshold Analysis:\n",
      "--------------------\n",
      "First month above $320.0: Month 6\n",
      "Price in that month: $325.45\n"
     ]
    }
   ],
   "source": [
    "threshold = 320.00\n",
    "month_index = 0\n",
    "first_month_above_threshold = None\n",
    "\n",
    "while month_index < len(monthly_prices):\n",
    "    if monthly_prices[month_index] > threshold:\n",
    "        first_month_above_threshold = month_index + 1 \n",
    "        break\n",
    "    month_index += 1\n",
    "\n",
    "print(f\"\\nThreshold Analysis:\")\n",
    "print(\"-\" * 20)\n",
    "if first_month_above_threshold:\n",
    "    print(f\"First month above ${threshold}: Month {first_month_above_threshold}\")\n",
    "    print(f\"Price in that month: ${monthly_prices[first_month_above_threshold-1]:.2f}\")\n",
    "else:\n",
    "    print(f\"No month had price above ${threshold}\")"
   ]
  },
  {
   "cell_type": "code",
   "execution_count": 7,
   "id": "b45f17bc",
   "metadata": {},
   "outputs": [
    {
     "name": "stdout",
     "output_type": "stream",
     "text": [
      "==================================================\n",
      "FINAL ANALYSIS SUMMARY\n",
      "==================================================\n",
      "Company: Microsoft (MSFT)\n",
      "Analysis Period: 10 months\n",
      "Price Range: $275.25 - $365.25\n",
      "\n",
      "Best performing month: Month 4 (+13.64%)\n",
      "Worst performing month: Month 3 (-6.93%)\n",
      "\n",
      "First month above $320.0: Month 6\n",
      "==================================================\n"
     ]
    }
   ],
   "source": [
    "print(\"=\"*50)\n",
    "print(\"FINAL ANALYSIS SUMMARY\")\n",
    "print(\"=\"*50)\n",
    "print(f\"Company: Microsoft (MSFT)\")\n",
    "print(f\"Analysis Period: {len(monthly_prices)} months\")\n",
    "print(f\"Price Range: ${min(monthly_prices):.2f} - ${max(monthly_prices):.2f}\")\n",
    "print()\n",
    "print(f\"Best performing month: Month {best_month} ({best_return:+.2f}%)\")\n",
    "print(f\"Worst performing month: Month {worst_month} ({worst_return:+.2f}%)\")\n",
    "print()\n",
    "if first_month_above_threshold:\n",
    "    print(f\"First month above ${threshold}: Month {first_month_above_threshold}\")\n",
    "else:\n",
    "    print(f\"No month exceeded ${threshold}\")\n",
    "print(\"=\"*50)"
   ]
  }
 ],
 "metadata": {
  "kernelspec": {
   "display_name": "Python 3",
   "language": "python",
   "name": "python3"
  },
  "language_info": {
   "codemirror_mode": {
    "name": "ipython",
    "version": 3
   },
   "file_extension": ".py",
   "mimetype": "text/x-python",
   "name": "python",
   "nbconvert_exporter": "python",
   "pygments_lexer": "ipython3",
   "version": "3.12.10"
  }
 },
 "nbformat": 4,
 "nbformat_minor": 5
}
